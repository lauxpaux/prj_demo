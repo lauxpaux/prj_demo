{
  "nbformat": 4,
  "nbformat_minor": 0,
  "metadata": {
    "colab": {
      "name": "Copy of Pythonclass2.ipynb",
      "provenance": [],
      "collapsed_sections": [],
      "authorship_tag": "ABX9TyNJo/9L09fPKs0neXj6G5Eo",
      "include_colab_link": true
    },
    "kernelspec": {
      "name": "python3",
      "display_name": "Python 3"
    }
  },
  "cells": [
    {
      "cell_type": "markdown",
      "metadata": {
        "id": "view-in-github",
        "colab_type": "text"
      },
      "source": [
        "<a href=\"https://colab.research.google.com/github/lauxpaux/prj_demo/blob/master/Copy_of_Pythonclass2.ipynb\" target=\"_parent\"><img src=\"https://colab.research.google.com/assets/colab-badge.svg\" alt=\"Open In Colab\"/></a>"
      ]
    },
    {
      "cell_type": "code",
      "metadata": {
        "id": "RV22G9_zhRlL",
        "colab_type": "code",
        "outputId": "a75a7ced-318f-4cb2-edad-6bd68d7703b8",
        "colab": {
          "base_uri": "https://localhost:8080/",
          "height": 102
        }
      },
      "source": [
        "import sys\n",
        "print(\"Python Version\")\n",
        "print(sys.version)\n",
        "print (\"Version info\")\n",
        "print(sys.version_info)"
      ],
      "execution_count": 0,
      "outputs": [
        {
          "output_type": "stream",
          "text": [
            "Python Version\n",
            "3.6.9 (default, Nov  7 2019, 10:44:02) \n",
            "[GCC 8.3.0]\n",
            "Version info\n",
            "sys.version_info(major=3, minor=6, micro=9, releaselevel='final', serial=0)\n"
          ],
          "name": "stdout"
        }
      ]
    },
    {
      "cell_type": "code",
      "metadata": {
        "id": "eO9MLhgoh4Vz",
        "colab_type": "code",
        "outputId": "ed58f334-f6d4-44d9-e797-320b762a1703",
        "colab": {
          "base_uri": "https://localhost:8080/",
          "height": 68
        }
      },
      "source": [
        "#write a code to display date and time\n",
        "import datetime\n",
        "now = datetime.datetime.now()\n",
        "print(\"Current date and time: \")\n",
        "print(now.strftime(\"%Y-%m-%d %H: %M: %S\"))\n",
        "print(now)\n"
      ],
      "execution_count": 0,
      "outputs": [
        {
          "output_type": "stream",
          "text": [
            "Current date and time: \n",
            "2020-01-29 23: 04: 21\n",
            "2020-01-29 23:04:21.758442\n"
          ],
          "name": "stdout"
        }
      ]
    },
    {
      "cell_type": "code",
      "metadata": {
        "id": "1QvqZvvdjOYW",
        "colab_type": "code",
        "outputId": "c0683b53-f7f2-4dbe-de6a-eee17a32fabe",
        "colab": {
          "base_uri": "https://localhost:8080/",
          "height": 51
        }
      },
      "source": [
        "#write a program to calculate radius \n",
        "from math import pi\n",
        "r = float(input (\"Input the radius of the circle: \"))\n",
        "print(\"The area of the circle with radius \" + str(r) + str(pi * r**2))"
      ],
      "execution_count": 0,
      "outputs": [
        {
          "output_type": "stream",
          "text": [
            "Input the radius of the circle: 45\n",
            "The area of the circle with radius 45.06361.725123519331\n"
          ],
          "name": "stdout"
        }
      ]
    },
    {
      "cell_type": "code",
      "metadata": {
        "id": "lsQ-Hu1DkUYY",
        "colab_type": "code",
        "outputId": "af58681a-9eed-4831-c87b-2b3e865e9558",
        "colab": {
          "base_uri": "https://localhost:8080/",
          "height": 68
        }
      },
      "source": [
        "#write a python pgoram which accepts the user's first and last name and prints them in reverse order with a space between them\n",
        "fname = input(\"Input your first Name : \")\n",
        "lname = input(\"Input your last name : \")\n",
        "print(\"Hello\" + lname + fname)"
      ],
      "execution_count": 0,
      "outputs": [
        {
          "output_type": "stream",
          "text": [
            "Input your first Name : Luara\n",
            "Input your last name : Pualino\n",
            "HelloPualinoLuara\n"
          ],
          "name": "stdout"
        }
      ]
    },
    {
      "cell_type": "code",
      "metadata": {
        "id": "tKdBQLcUluR-",
        "colab_type": "code",
        "colab": {}
      },
      "source": [
        "#write a python program which accepts a sequence of comma separated numbers from user and generate a list and a tuple with those numbers\n",
        "values = input(\"Input some comma separated numbers: \")\n",
        "list = values.split(\",\")\n",
        "tuple = tuple(list)\n",
        "print('List: ', list)\n",
        "print('Tuple: ', tuple)"
      ],
      "execution_count": 0,
      "outputs": []
    },
    {
      "cell_type": "code",
      "metadata": {
        "id": "3W6GyRVTlCM8",
        "colab_type": "code",
        "outputId": "cf1d2fd3-297c-4f95-8b83-3c9e02e43160",
        "colab": {
          "base_uri": "https://localhost:8080/",
          "height": 34
        }
      },
      "source": [
        "#write a Python program to display the first and last colos from the following list. \n",
        "color_list = [\"Red\", \"Green\", \"White\", \"Black\"]\n",
        "print(\"%s %s\"%(color_list[0], color_list[-1]))"
      ],
      "execution_count": 0,
      "outputs": [
        {
          "output_type": "stream",
          "text": [
            "Red Black\n"
          ],
          "name": "stdout"
        }
      ]
    }
  ]
}